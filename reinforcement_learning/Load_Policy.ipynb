{
 "cells": [
  {
   "cell_type": "code",
   "execution_count": 1,
   "id": "00860018-d38d-4e60-80bc-d4eab0c08e48",
   "metadata": {},
   "outputs": [
    {
     "name": "stderr",
     "output_type": "stream",
     "text": [
      "2022-04-07 22:57:44.615163: W tensorflow/stream_executor/platform/default/dso_loader.cc:64] Could not load dynamic library 'libcudart.so.11.0'; dlerror: libcudart.so.11.0: cannot open shared object file: No such file or directory\n",
      "2022-04-07 22:57:44.615180: I tensorflow/stream_executor/cuda/cudart_stub.cc:29] Ignore above cudart dlerror if you do not have a GPU set up on your machine.\n"
     ]
    }
   ],
   "source": [
    "import tensorflow as tf\n",
    "from tf_agents.trajectories import time_step as ts\n",
    "import tf_agents.trajectories as tr\n",
    "import numpy as np\n",
    "from tf_agents.environments import py_environment\n",
    "from tf_agents.specs import array_spec\n",
    "from tf_agents.environments import tf_py_environment\n"
   ]
  },
  {
   "cell_type": "code",
   "execution_count": 2,
   "id": "71977f5b-cc6d-42aa-9778-42fed46a96f3",
   "metadata": {},
   "outputs": [],
   "source": [
    "class RunEnv(py_environment.PyEnvironment):\n",
    "    def __init__(self):\n",
    "        self.obs = [ 0.0 for x in range(87*2) ]\n",
    "        self._observation_max = []\n",
    "        self._observation_min = []\n",
    "        for i in range(87):\n",
    "            self._observation_max.append(1) # max value for object label in view\n",
    "            self._observation_min.append(0)\n",
    "        for i in range(87):\n",
    "            self._observation_max.append(8.0)\n",
    "            self._observation_min.append(0)\n",
    "        self._observation_max = np.array(self._observation_max)\n",
    "        self._observation_min = np.array(self._observation_min)\n",
    "        self._observation_spec = array_spec.BoundedArraySpec(\n",
    "        shape=((87)*2, ), dtype=np.float32, minimum=self._observation_min, maximum=self._observation_max, name='observation')\n",
    "        self._action_spec = array_spec.BoundedArraySpec(shape=(), dtype=np.int32,minimum=0,maximum=2,name='action')\n",
    "        self._done=False\n",
    "    def action_spec(self):\n",
    "        return self._action_spec\n",
    "    def observation_spec(self):\n",
    "        return self._observation_spec\n",
    "    def _step(self, action):\n",
    "        if self._done:\n",
    "            return ts.termination(np.array(self.obs, dtype=np.float32), reward=0.0)\n",
    "        else:            \n",
    "            return ts.transition(np.array(self.obs, dtype=np.float32), reward=0.0, discount=0.0)\n",
    "    def _reset(self):\n",
    "        return ts.restart(np.array(self.obs, dtype=np.float32))\n",
    "        \n"
   ]
  },
  {
   "cell_type": "markdown",
   "id": "da1cfaf9-00ab-4370-9411-acaafe423d04",
   "metadata": {},
   "source": [
    "# Load Trained Policy"
   ]
  },
  {
   "cell_type": "code",
   "execution_count": 3,
   "id": "5fbd4d54-4bd1-4337-ae5a-afbd066a1bde",
   "metadata": {},
   "outputs": [
    {
     "name": "stderr",
     "output_type": "stream",
     "text": [
      "2022-04-07 22:57:46.012829: W tensorflow/stream_executor/platform/default/dso_loader.cc:64] Could not load dynamic library 'libcuda.so.1'; dlerror: libcuda.so.1: cannot open shared object file: No such file or directory\n",
      "2022-04-07 22:57:46.012867: W tensorflow/stream_executor/cuda/cuda_driver.cc:269] failed call to cuInit: UNKNOWN ERROR (303)\n",
      "2022-04-07 22:57:46.012878: I tensorflow/stream_executor/cuda/cuda_diagnostics.cc:163] no NVIDIA GPU device is present: /dev/nvidia0 does not exist\n",
      "2022-04-07 22:57:46.012999: I tensorflow/core/platform/cpu_feature_guard.cc:151] This TensorFlow binary is optimized with oneAPI Deep Neural Network Library (oneDNN) to use the following CPU instructions in performance-critical operations:  AVX2 FMA\n",
      "To enable them in other operations, rebuild TensorFlow with the appropriate compiler flags.\n"
     ]
    }
   ],
   "source": [
    "saved_policy = tf.compat.v2.saved_model.load('example_policy')\n",
    "policy_state = saved_policy.get_initial_state(batch_size=1)"
   ]
  },
  {
   "cell_type": "markdown",
   "id": "d4a5ba5c-cfd7-4574-bedd-433fec94cb88",
   "metadata": {},
   "source": [
    "# Set initial Observation"
   ]
  },
  {
   "cell_type": "code",
   "execution_count": 9,
   "id": "c43b44c2-fffe-4f2b-8868-0e610cdb956a",
   "metadata": {},
   "outputs": [
    {
     "name": "stdout",
     "output_type": "stream",
     "text": [
      "tf.Tensor([2], shape=(1,), dtype=int32)\n",
      "2\n"
     ]
    }
   ],
   "source": [
    "obs = [ 0.0 for x in range(87*2) ]\n",
    "runenv = RunEnv()\n",
    "env = tf_py_environment.TFPyEnvironment(runenv)\n",
    "runenv.obs = obs\n",
    "time_step = env.reset()\n",
    "policy_step = saved_policy.action(time_step, policy_state)\n",
    "policy_state = policy_step.state\n",
    "print(policy_step.action)\n",
    "print(int(policy_step.action))"
   ]
  },
  {
   "cell_type": "code",
   "execution_count": 10,
   "id": "3bd6b141-d164-43fb-95d1-6109a7e2fdea",
   "metadata": {},
   "outputs": [
    {
     "name": "stdout",
     "output_type": "stream",
     "text": [
      "tf.Tensor([1], shape=(1,), dtype=int32)\n",
      "1\n"
     ]
    }
   ],
   "source": [
    "runenv.obs = [ 1.0 for x in range(87*2) ]\n",
    "time_step = env.reset()\n",
    "policy_step = saved_policy.action(time_step, policy_state)\n",
    "policy_state = policy_step.state\n",
    "print(policy_step.action)\n",
    "print(int(policy_step.action))"
   ]
  },
  {
   "cell_type": "code",
   "execution_count": null,
   "id": "7723969f-927c-453a-b4da-d66be150155d",
   "metadata": {},
   "outputs": [],
   "source": []
  }
 ],
 "metadata": {
  "kernelspec": {
   "display_name": "Python 3 (ipykernel)",
   "language": "python",
   "name": "python3"
  },
  "language_info": {
   "codemirror_mode": {
    "name": "ipython",
    "version": 3
   },
   "file_extension": ".py",
   "mimetype": "text/x-python",
   "name": "python",
   "nbconvert_exporter": "python",
   "pygments_lexer": "ipython3",
   "version": "3.9.5"
  }
 },
 "nbformat": 4,
 "nbformat_minor": 5
}
